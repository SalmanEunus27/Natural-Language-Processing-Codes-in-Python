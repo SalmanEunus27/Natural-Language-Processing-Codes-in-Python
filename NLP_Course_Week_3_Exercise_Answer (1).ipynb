{
  "nbformat": 4,
  "nbformat_minor": 0,
  "metadata": {
    "accelerator": "GPU",
    "colab": {
      "name": "NLP Course - Week 3 Exercise Answer.ipynb",
      "provenance": [],
      "toc_visible": true
    },
    "kernelspec": {
      "display_name": "Python 3",
      "language": "python",
      "name": "python3"
    },
    "language_info": {
      "codemirror_mode": {
        "name": "ipython",
        "version": 3
      },
      "file_extension": ".py",
      "mimetype": "text/x-python",
      "name": "python",
      "nbconvert_exporter": "python",
      "pygments_lexer": "ipython3",
      "version": "3.7.6"
    }
  },
  "cells": [
    {
      "cell_type": "code",
      "metadata": {
        "id": "zX4Kg8DUTKWO"
      },
      "source": [
        "#@title Licensed under the Apache License, Version 2.0 (the \"License\");\n",
        "# you may not use this file except in compliance with the License.\n",
        "# You may obtain a copy of the License at\n",
        "#\n",
        "# https://www.apache.org/licenses/LICENSE-2.0\n",
        "#\n",
        "# Unless required by applicable law or agreed to in writing, software\n",
        "# distributed under the License is distributed on an \"AS IS\" BASIS,\n",
        "# WITHOUT WARRANTIES OR CONDITIONS OF ANY KIND, either express or implied.\n",
        "# See the License for the specific language governing permissions and\n",
        "# limitations under the License."
      ],
      "execution_count": 1,
      "outputs": []
    },
    {
      "cell_type": "markdown",
      "metadata": {
        "id": "xURgAyjMxTvc"
      },
      "source": [
        "<a href=\"https://colab.research.google.com/github/lmoroney/dlaicourse/blob/master/TensorFlow%20In%20Practice/Course%203%20-%20NLP/NLP%20Course%20-%20Week%203%20Exercise%20Answer.ipynb\" target=\"_parent\"><img src=\"https://colab.research.google.com/assets/colab-badge.svg\" alt=\"Open In Colab\"/></a>"
      ]
    },
    {
      "cell_type": "code",
      "metadata": {
        "id": "hmA6EzkQJ5jt"
      },
      "source": [
        "import json\n",
        "import tensorflow as tf\n",
        "import csv\n",
        "import random\n",
        "import numpy as np\n",
        "\n",
        "from tensorflow.keras.preprocessing.text import Tokenizer\n",
        "from tensorflow.keras.preprocessing.sequence import pad_sequences\n",
        "from tensorflow.keras.utils import to_categorical\n",
        "from tensorflow.keras import regularizers\n",
        "\n",
        "\n",
        "embedding_dim = 100\n",
        "max_length = 16\n",
        "trunc_type='post'\n",
        "padding_type='post'\n",
        "oov_tok = \"<OOV>\"\n",
        "training_size=160000\n",
        "test_portion=.1\n",
        "\n",
        "corpus = []\n"
      ],
      "execution_count": 2,
      "outputs": []
    },
    {
      "cell_type": "code",
      "metadata": {
        "colab": {
          "base_uri": "https://localhost:8080/"
        },
        "id": "bM0l_dORKqE0",
        "outputId": "d4b2d768-1523-4f04-decf-05055aae9ee1"
      },
      "source": [
        "# Note that I cleaned the Stanford dataset to remove LATIN1 encoding to make it easier for Python CSV reader\n",
        "# You can do that yourself with:\n",
        "# iconv -f LATIN1 -t UTF8 training.1600000.processed.noemoticon.csv -o training_cleaned.csv\n",
        "# I then hosted it on my site to make it easier to use in this notebook\n",
        "\n",
        "!wget --no-check-certificate \\\n",
        "    https://storage.googleapis.com/laurencemoroney-blog.appspot.com/training_cleaned.csv \\\n",
        "    -O /tmp/training_cleaned.csv\n",
        "\n",
        "num_sentences = 0\n",
        "\n",
        "with open(\"/tmp/training_cleaned.csv\") as csvfile:\n",
        "    reader = csv.reader(csvfile, delimiter=',')\n",
        "    for row in reader:\n",
        "        list_item=[]\n",
        "        list_item.append(row[5])\n",
        "        this_label=row[0]\n",
        "        if this_label=='0':\n",
        "            list_item.append(0)\n",
        "        else:\n",
        "            list_item.append(1)\n",
        "        num_sentences = num_sentences + 1\n",
        "        corpus.append(list_item)\n"
      ],
      "execution_count": 3,
      "outputs": [
        {
          "output_type": "stream",
          "text": [
            "--2021-02-04 15:06:51--  https://storage.googleapis.com/laurencemoroney-blog.appspot.com/training_cleaned.csv\n",
            "Resolving storage.googleapis.com (storage.googleapis.com)... 142.250.73.208, 142.250.73.240, 172.217.5.240, ...\n",
            "Connecting to storage.googleapis.com (storage.googleapis.com)|142.250.73.208|:443... connected.\n",
            "HTTP request sent, awaiting response... 200 OK\n",
            "Length: 238942690 (228M) [application/octet-stream]\n",
            "Saving to: ‘/tmp/training_cleaned.csv’\n",
            "\n",
            "/tmp/training_clean 100%[===================>] 227.87M   175MB/s    in 1.3s    \n",
            "\n",
            "2021-02-04 15:06:53 (175 MB/s) - ‘/tmp/training_cleaned.csv’ saved [238942690/238942690]\n",
            "\n"
          ],
          "name": "stdout"
        }
      ]
    },
    {
      "cell_type": "code",
      "metadata": {
        "colab": {
          "base_uri": "https://localhost:8080/"
        },
        "id": "3kxblBUjEUX-",
        "outputId": "a6119412-74e2-4f9c-d511-63de0e50753c"
      },
      "source": [
        "print(num_sentences)\n",
        "print(len(corpus))\n",
        "print(corpus[1])\n",
        "\n",
        "# Expected Output:\n",
        "# 1600000\n",
        "# 1600000\n",
        "# [\"is upset that he can't update his Facebook by texting it... and might cry as a result  School today also. Blah!\", 0]"
      ],
      "execution_count": 4,
      "outputs": [
        {
          "output_type": "stream",
          "text": [
            "1600000\n",
            "1600000\n",
            "[\"is upset that he can't update his Facebook by texting it... and might cry as a result  School today also. Blah!\", 0]\n"
          ],
          "name": "stdout"
        }
      ]
    },
    {
      "cell_type": "code",
      "metadata": {
        "id": "ohOGz24lsNAD"
      },
      "source": [
        "sentences=[]\n",
        "labels=[]\n",
        "random.shuffle(corpus)\n",
        "for x in range(training_size):\n",
        "    sentences.append(corpus[x][0])\n",
        "    labels.append(corpus[x][1])\n",
        "\n",
        "\n",
        "tokenizer = Tokenizer()\n",
        "tokenizer.fit_on_texts(sentences)\n",
        "\n",
        "word_index = tokenizer.word_index\n",
        "vocab_size=len(word_index)\n",
        "\n",
        "sequences = tokenizer.texts_to_sequences(sentences)\n",
        "padded = pad_sequences(sequences, maxlen=max_length, padding=padding_type, truncating=trunc_type)\n",
        "\n",
        "split = int(test_portion * training_size)\n",
        "\n",
        "test_sequences = padded[0:split]\n",
        "training_sequences = padded[split:training_size]\n",
        "test_labels = labels[0:split]\n",
        "training_labels = labels[split:training_size]"
      ],
      "execution_count": 5,
      "outputs": []
    },
    {
      "cell_type": "code",
      "metadata": {
        "colab": {
          "base_uri": "https://localhost:8080/"
        },
        "id": "gIrtRem1En3N",
        "outputId": "55160f7c-9378-4498-b94b-af338c8b2e91"
      },
      "source": [
        "print(vocab_size)\n",
        "print(word_index['i'])\n",
        "# Expected Output\n",
        "# 138858\n",
        "# 1"
      ],
      "execution_count": 6,
      "outputs": [
        {
          "output_type": "stream",
          "text": [
            "138411\n",
            "1\n"
          ],
          "name": "stdout"
        }
      ]
    },
    {
      "cell_type": "code",
      "metadata": {
        "colab": {
          "base_uri": "https://localhost:8080/"
        },
        "id": "C1zdgJkusRh0",
        "outputId": "ee52c733-90d5-4ae0-f808-b896adeb847a"
      },
      "source": [
        "# Note this is the 100 dimension version of GloVe from Stanford\n",
        "# I unzipped and hosted it on my site to make this notebook easier\n",
        "!wget --no-check-certificate \\\n",
        "    https://storage.googleapis.com/laurencemoroney-blog.appspot.com/glove.6B.100d.txt \\\n",
        "    -O /tmp/glove.6B.100d.txt\n",
        "embeddings_index = {};\n",
        "with open('/tmp/glove.6B.100d.txt') as f:\n",
        "    for line in f:\n",
        "        values = line.split();\n",
        "        word = values[0];\n",
        "        coefs = np.asarray(values[1:], dtype='float32');\n",
        "        embeddings_index[word] = coefs;\n",
        "\n",
        "embeddings_matrix = np.zeros((vocab_size+1, embedding_dim));\n",
        "for word, i in word_index.items():\n",
        "    embedding_vector = embeddings_index.get(word);\n",
        "    if embedding_vector is not None:\n",
        "        embeddings_matrix[i] = embedding_vector;"
      ],
      "execution_count": 7,
      "outputs": [
        {
          "output_type": "stream",
          "text": [
            "--2021-02-04 15:07:04--  https://storage.googleapis.com/laurencemoroney-blog.appspot.com/glove.6B.100d.txt\n",
            "Resolving storage.googleapis.com (storage.googleapis.com)... 142.250.73.240, 172.217.7.144, 172.217.13.80, ...\n",
            "Connecting to storage.googleapis.com (storage.googleapis.com)|142.250.73.240|:443... connected.\n",
            "HTTP request sent, awaiting response... 200 OK\n",
            "Length: 347116733 (331M) [text/plain]\n",
            "Saving to: ‘/tmp/glove.6B.100d.txt’\n",
            "\n",
            "/tmp/glove.6B.100d. 100%[===================>] 331.04M   134MB/s    in 2.5s    \n",
            "\n",
            "2021-02-04 15:07:07 (134 MB/s) - ‘/tmp/glove.6B.100d.txt’ saved [347116733/347116733]\n",
            "\n"
          ],
          "name": "stdout"
        }
      ]
    },
    {
      "cell_type": "code",
      "metadata": {
        "colab": {
          "base_uri": "https://localhost:8080/"
        },
        "id": "71NLk_lpFLNt",
        "outputId": "df8c44a1-2ed1-4884-fb79-8e9ff9067980"
      },
      "source": [
        "print(len(embeddings_matrix))\n",
        "# Expected Output\n",
        "# 138859"
      ],
      "execution_count": 8,
      "outputs": [
        {
          "output_type": "stream",
          "text": [
            "138412\n"
          ],
          "name": "stdout"
        }
      ]
    },
    {
      "cell_type": "code",
      "metadata": {
        "colab": {
          "base_uri": "https://localhost:8080/"
        },
        "id": "iKKvbuEBOGFz",
        "outputId": "c9a49520-cf89-484b-cb33-6e1907db7e0e"
      },
      "source": [
        "model = tf.keras.Sequential([\n",
        "    tf.keras.layers.Embedding(vocab_size+1, embedding_dim, input_length=max_length, weights=[embeddings_matrix], trainable=False),\n",
        "    tf.keras.layers.Dropout(0.2),\n",
        "    tf.keras.layers.Conv1D(64, 5, activation='relu'),\n",
        "    tf.keras.layers.MaxPooling1D(pool_size=4),\n",
        "    tf.keras.layers.LSTM(64),\n",
        "    tf.keras.layers.Dense(1, activation='sigmoid')\n",
        "])\n",
        "model.compile(loss='binary_crossentropy',optimizer='adam',metrics=['accuracy'])\n",
        "model.summary()\n",
        "\n",
        "num_epochs = 50\n",
        "\n",
        "training_padded = np.array(training_sequences)\n",
        "training_labels = np.array(training_labels)\n",
        "testing_padded = np.array(test_sequences)\n",
        "testing_labels = np.array(test_labels)\n",
        "\n",
        "history = model.fit(training_padded, training_labels, epochs=num_epochs, validation_data=(testing_padded, testing_labels), verbose=2)\n",
        "\n",
        "print(\"Training Complete\")"
      ],
      "execution_count": 9,
      "outputs": [
        {
          "output_type": "stream",
          "text": [
            "Model: \"sequential\"\n",
            "_________________________________________________________________\n",
            "Layer (type)                 Output Shape              Param #   \n",
            "=================================================================\n",
            "embedding (Embedding)        (None, 16, 100)           13841200  \n",
            "_________________________________________________________________\n",
            "dropout (Dropout)            (None, 16, 100)           0         \n",
            "_________________________________________________________________\n",
            "conv1d (Conv1D)              (None, 12, 64)            32064     \n",
            "_________________________________________________________________\n",
            "max_pooling1d (MaxPooling1D) (None, 3, 64)             0         \n",
            "_________________________________________________________________\n",
            "lstm (LSTM)                  (None, 64)                33024     \n",
            "_________________________________________________________________\n",
            "dense (Dense)                (None, 1)                 65        \n",
            "=================================================================\n",
            "Total params: 13,906,353\n",
            "Trainable params: 65,153\n",
            "Non-trainable params: 13,841,200\n",
            "_________________________________________________________________\n",
            "Epoch 1/50\n",
            "4500/4500 - 22s - loss: 0.5683 - accuracy: 0.6982 - val_loss: 0.5312 - val_accuracy: 0.7290\n",
            "Epoch 2/50\n",
            "4500/4500 - 14s - loss: 0.5279 - accuracy: 0.7302 - val_loss: 0.5256 - val_accuracy: 0.7332\n",
            "Epoch 3/50\n",
            "4500/4500 - 14s - loss: 0.5115 - accuracy: 0.7428 - val_loss: 0.5190 - val_accuracy: 0.7384\n",
            "Epoch 4/50\n",
            "4500/4500 - 13s - loss: 0.4996 - accuracy: 0.7515 - val_loss: 0.5053 - val_accuracy: 0.7511\n",
            "Epoch 5/50\n",
            "4500/4500 - 13s - loss: 0.4913 - accuracy: 0.7556 - val_loss: 0.5066 - val_accuracy: 0.7526\n",
            "Epoch 6/50\n",
            "4500/4500 - 14s - loss: 0.4847 - accuracy: 0.7609 - val_loss: 0.5034 - val_accuracy: 0.7481\n",
            "Epoch 7/50\n",
            "4500/4500 - 13s - loss: 0.4794 - accuracy: 0.7654 - val_loss: 0.5034 - val_accuracy: 0.7526\n",
            "Epoch 8/50\n",
            "4500/4500 - 13s - loss: 0.4744 - accuracy: 0.7668 - val_loss: 0.5058 - val_accuracy: 0.7499\n",
            "Epoch 9/50\n",
            "4500/4500 - 13s - loss: 0.4707 - accuracy: 0.7693 - val_loss: 0.5058 - val_accuracy: 0.7526\n",
            "Epoch 10/50\n",
            "4500/4500 - 13s - loss: 0.4655 - accuracy: 0.7727 - val_loss: 0.5034 - val_accuracy: 0.7529\n",
            "Epoch 11/50\n",
            "4500/4500 - 13s - loss: 0.4630 - accuracy: 0.7752 - val_loss: 0.5051 - val_accuracy: 0.7502\n",
            "Epoch 12/50\n",
            "4500/4500 - 13s - loss: 0.4583 - accuracy: 0.7773 - val_loss: 0.5084 - val_accuracy: 0.7544\n",
            "Epoch 13/50\n",
            "4500/4500 - 13s - loss: 0.4578 - accuracy: 0.7772 - val_loss: 0.5107 - val_accuracy: 0.7533\n",
            "Epoch 14/50\n",
            "4500/4500 - 13s - loss: 0.4545 - accuracy: 0.7799 - val_loss: 0.5106 - val_accuracy: 0.7496\n",
            "Epoch 15/50\n",
            "4500/4500 - 13s - loss: 0.4521 - accuracy: 0.7813 - val_loss: 0.5145 - val_accuracy: 0.7488\n",
            "Epoch 16/50\n",
            "4500/4500 - 13s - loss: 0.4524 - accuracy: 0.7810 - val_loss: 0.5140 - val_accuracy: 0.7516\n",
            "Epoch 17/50\n",
            "4500/4500 - 13s - loss: 0.4496 - accuracy: 0.7840 - val_loss: 0.5103 - val_accuracy: 0.7544\n",
            "Epoch 18/50\n",
            "4500/4500 - 13s - loss: 0.4482 - accuracy: 0.7838 - val_loss: 0.5159 - val_accuracy: 0.7493\n",
            "Epoch 19/50\n",
            "4500/4500 - 13s - loss: 0.4462 - accuracy: 0.7850 - val_loss: 0.5108 - val_accuracy: 0.7526\n",
            "Epoch 20/50\n",
            "4500/4500 - 13s - loss: 0.4451 - accuracy: 0.7852 - val_loss: 0.5114 - val_accuracy: 0.7503\n",
            "Epoch 21/50\n",
            "4500/4500 - 13s - loss: 0.4431 - accuracy: 0.7873 - val_loss: 0.5140 - val_accuracy: 0.7526\n",
            "Epoch 22/50\n",
            "4500/4500 - 13s - loss: 0.4421 - accuracy: 0.7876 - val_loss: 0.5182 - val_accuracy: 0.7496\n",
            "Epoch 23/50\n",
            "4500/4500 - 13s - loss: 0.4405 - accuracy: 0.7880 - val_loss: 0.5180 - val_accuracy: 0.7492\n",
            "Epoch 24/50\n",
            "4500/4500 - 13s - loss: 0.4409 - accuracy: 0.7881 - val_loss: 0.5218 - val_accuracy: 0.7493\n",
            "Epoch 25/50\n",
            "4500/4500 - 14s - loss: 0.4399 - accuracy: 0.7895 - val_loss: 0.5181 - val_accuracy: 0.7499\n",
            "Epoch 26/50\n",
            "4500/4500 - 14s - loss: 0.4375 - accuracy: 0.7906 - val_loss: 0.5255 - val_accuracy: 0.7469\n",
            "Epoch 27/50\n",
            "4500/4500 - 13s - loss: 0.4382 - accuracy: 0.7908 - val_loss: 0.5208 - val_accuracy: 0.7471\n",
            "Epoch 28/50\n",
            "4500/4500 - 13s - loss: 0.4362 - accuracy: 0.7906 - val_loss: 0.5179 - val_accuracy: 0.7444\n",
            "Epoch 29/50\n",
            "4500/4500 - 14s - loss: 0.4352 - accuracy: 0.7917 - val_loss: 0.5214 - val_accuracy: 0.7462\n",
            "Epoch 30/50\n",
            "4500/4500 - 13s - loss: 0.4364 - accuracy: 0.7907 - val_loss: 0.5249 - val_accuracy: 0.7464\n",
            "Epoch 31/50\n",
            "4500/4500 - 13s - loss: 0.4328 - accuracy: 0.7933 - val_loss: 0.5245 - val_accuracy: 0.7462\n",
            "Epoch 32/50\n",
            "4500/4500 - 13s - loss: 0.4350 - accuracy: 0.7920 - val_loss: 0.5269 - val_accuracy: 0.7474\n",
            "Epoch 33/50\n",
            "4500/4500 - 13s - loss: 0.4356 - accuracy: 0.7908 - val_loss: 0.5267 - val_accuracy: 0.7490\n",
            "Epoch 34/50\n",
            "4500/4500 - 13s - loss: 0.4326 - accuracy: 0.7936 - val_loss: 0.5266 - val_accuracy: 0.7452\n",
            "Epoch 35/50\n",
            "4500/4500 - 13s - loss: 0.4319 - accuracy: 0.7937 - val_loss: 0.5269 - val_accuracy: 0.7484\n",
            "Epoch 36/50\n",
            "4500/4500 - 13s - loss: 0.4321 - accuracy: 0.7945 - val_loss: 0.5212 - val_accuracy: 0.7472\n",
            "Epoch 37/50\n",
            "4500/4500 - 13s - loss: 0.4307 - accuracy: 0.7949 - val_loss: 0.5292 - val_accuracy: 0.7442\n",
            "Epoch 38/50\n",
            "4500/4500 - 13s - loss: 0.4307 - accuracy: 0.7942 - val_loss: 0.5209 - val_accuracy: 0.7454\n",
            "Epoch 39/50\n",
            "4500/4500 - 13s - loss: 0.4312 - accuracy: 0.7946 - val_loss: 0.5255 - val_accuracy: 0.7456\n",
            "Epoch 40/50\n",
            "4500/4500 - 13s - loss: 0.4312 - accuracy: 0.7936 - val_loss: 0.5262 - val_accuracy: 0.7442\n",
            "Epoch 41/50\n",
            "4500/4500 - 13s - loss: 0.4315 - accuracy: 0.7957 - val_loss: 0.5323 - val_accuracy: 0.7447\n",
            "Epoch 42/50\n",
            "4500/4500 - 13s - loss: 0.4302 - accuracy: 0.7953 - val_loss: 0.5318 - val_accuracy: 0.7423\n",
            "Epoch 43/50\n",
            "4500/4500 - 13s - loss: 0.4294 - accuracy: 0.7945 - val_loss: 0.5257 - val_accuracy: 0.7431\n",
            "Epoch 44/50\n",
            "4500/4500 - 13s - loss: 0.4295 - accuracy: 0.7962 - val_loss: 0.5356 - val_accuracy: 0.7393\n",
            "Epoch 45/50\n",
            "4500/4500 - 13s - loss: 0.4303 - accuracy: 0.7952 - val_loss: 0.5286 - val_accuracy: 0.7464\n",
            "Epoch 46/50\n",
            "4500/4500 - 13s - loss: 0.4302 - accuracy: 0.7945 - val_loss: 0.5280 - val_accuracy: 0.7452\n",
            "Epoch 47/50\n",
            "4500/4500 - 13s - loss: 0.4292 - accuracy: 0.7963 - val_loss: 0.5409 - val_accuracy: 0.7404\n",
            "Epoch 48/50\n",
            "4500/4500 - 13s - loss: 0.4295 - accuracy: 0.7953 - val_loss: 0.5305 - val_accuracy: 0.7442\n",
            "Epoch 49/50\n",
            "4500/4500 - 14s - loss: 0.4278 - accuracy: 0.7963 - val_loss: 0.5321 - val_accuracy: 0.7444\n",
            "Epoch 50/50\n",
            "4500/4500 - 13s - loss: 0.4285 - accuracy: 0.7959 - val_loss: 0.5244 - val_accuracy: 0.7441\n",
            "Training Complete\n"
          ],
          "name": "stdout"
        }
      ]
    },
    {
      "cell_type": "code",
      "metadata": {
        "colab": {
          "base_uri": "https://localhost:8080/",
          "height": 606
        },
        "id": "qxju4ItJKO8F",
        "outputId": "8bff6195-9088-42bb-f57c-57bd61b93324"
      },
      "source": [
        "import matplotlib.image  as mpimg\n",
        "import matplotlib.pyplot as plt\n",
        "\n",
        "#-----------------------------------------------------------\n",
        "# Retrieve a list of list results on training and test data\n",
        "# sets for each training epoch\n",
        "#-----------------------------------------------------------\n",
        "acc=history.history['accuracy']\n",
        "val_acc=history.history['val_accuracy']\n",
        "loss=history.history['loss']\n",
        "val_loss=history.history['val_loss']\n",
        "\n",
        "epochs=range(len(acc)) # Get number of epochs\n",
        "\n",
        "#------------------------------------------------\n",
        "# Plot training and validation accuracy per epoch\n",
        "#------------------------------------------------\n",
        "plt.plot(epochs, acc, 'r')\n",
        "plt.plot(epochs, val_acc, 'b')\n",
        "plt.title('Training and validation accuracy')\n",
        "plt.xlabel(\"Epochs\")\n",
        "plt.ylabel(\"Accuracy\")\n",
        "plt.legend([\"Accuracy\", \"Validation Accuracy\"])\n",
        "\n",
        "plt.figure()\n",
        "\n",
        "#------------------------------------------------\n",
        "# Plot training and validation loss per epoch\n",
        "#------------------------------------------------\n",
        "plt.plot(epochs, loss, 'r')\n",
        "plt.plot(epochs, val_loss, 'b')\n",
        "plt.title('Training and validation loss')\n",
        "plt.xlabel(\"Epochs\")\n",
        "plt.ylabel(\"Loss\")\n",
        "plt.legend([\"Loss\", \"Validation Loss\"])\n",
        "\n",
        "plt.figure()\n",
        "\n",
        "\n",
        "# Expected Output\n",
        "# A chart where the validation loss does not increase sharply!"
      ],
      "execution_count": 10,
      "outputs": [
        {
          "output_type": "execute_result",
          "data": {
            "text/plain": [
              "<Figure size 432x288 with 0 Axes>"
            ]
          },
          "metadata": {
            "tags": []
          },
          "execution_count": 10
        },
        {
          "output_type": "display_data",
          "data": {
            "image/png": "[encoded data removed]",
            "text/plain": [
              "<Figure size 432x288 with 1 Axes>"
            ]
          },
          "metadata": {
            "tags": [],
            "needs_background": "light"
          }
        },
        {
          "output_type": "display_data",
          "data": {
            "image/png": "[encoded data removed]",
            "text/plain": [
              "<Figure size 432x288 with 1 Axes>"
            ]
          },
          "metadata": {
            "tags": [],
            "needs_background": "light"
          }
        },
        {
          "output_type": "display_data",
          "data": {
            "text/plain": [
              "<Figure size 432x288 with 0 Axes>"
            ]
          },
          "metadata": {
            "tags": []
          }
        }
      ]
    }
  ]
}